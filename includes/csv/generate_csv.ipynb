{
 "cells": [
  {
   "cell_type": "markdown",
   "id": "c94998e3",
   "metadata": {},
   "source": [
    "## Generate csv"
   ]
  },
  {
   "cell_type": "code",
   "execution_count": 2,
   "id": "24abd15e",
   "metadata": {},
   "outputs": [],
   "source": [
    "import pandas as pd\n",
    "import os \n",
    "\n",
    "csv_directory = \"./\""
   ]
  },
  {
   "cell_type": "markdown",
   "id": "44f29cb4",
   "metadata": {},
   "source": [
    "## Ports"
   ]
  },
  {
   "cell_type": "code",
   "execution_count": 3,
   "id": "64df6f09",
   "metadata": {},
   "outputs": [
    {
     "name": "stdout",
     "output_type": "stream",
     "text": [
      "                                   name  ferries_capacity  people_capacity\n",
      "0                      Porto di Levante                 2            500.0\n",
      "1    Molo di protezione civile di Gelso                 0              0.0\n",
      "2  Molo di protezione civile di Ponente                 0              0.0\n",
      "3                      Porto di Milazzo              1000        1000000.0\n"
     ]
    }
   ],
   "source": [
    "should_save = False\n",
    "csv_filename = \"Ports.csv\"\n",
    "\n",
    "data = {\n",
    "    'Porto di Levante': {'ferries_capacity': 2, 'people_capacity': 500},\n",
    "    'Molo di protezione civile di Gelso': {'ferries_capacity': 0, 'people_capacity': 0},\n",
    "    'Molo di protezione civile di Ponente': {'ferries_capacity': 0, 'people_capacity': 0},\n",
    "    'Porto di Milazzo': {'ferries_capacity': 1000, 'people_capacity': 10e5}\n",
    "}\n",
    "\n",
    "df = pd.DataFrame.from_dict(data, orient='index')\n",
    "df.index.name = 'name'\n",
    "df = df.reset_index()\n",
    "\n",
    "print(df)\n",
    "\n",
    "if should_save == True:\n",
    "    if not os.path.exists(csv_directory):\n",
    "        os.makedirs(csv_directory)\n",
    "    filename = os.path.join(csv_directory, csv_filename)\n",
    "    df.to_csv(filename, index=False)"
   ]
  },
  {
   "cell_type": "markdown",
   "id": "1d874e33",
   "metadata": {},
   "source": [
    "## Heliports"
   ]
  },
  {
   "cell_type": "code",
   "execution_count": null,
   "id": "ebebd2a7",
   "metadata": {},
   "outputs": [
    {
     "name": "stdout",
     "output_type": "stream",
     "text": [
      "               name  helicopters_capacity  people_capacity lights\n",
      "0    ZAE Vulcanello                     1               50  false\n",
      "1         ZAE Piano                     1               50   true\n",
      "2       ZAE Cratere                     1               50  false\n",
      "3            Nave 1                     4             1000  false\n",
      "4  Ospedale Milazzo                     4             1000  false\n"
     ]
    }
   ],
   "source": [
    "should_save = False\n",
    "csv_filename = \"Heliports.csv\"\n",
    "\n",
    "data = {\n",
    "    'ZAE Vulcanello': {'helicopters_capacity': 1, 'people_capacity': 50, 'lights': 'false'},\n",
    "    'ZAE Piano': {'helicopters_capacity': 1, 'people_capacity': 50, 'lights': 'true'},\n",
    "    'ZAE Cratere': {'helicopters_capacity': 1, 'people_capacity': 50, 'lights': 'false'},\n",
    "    'Nave 1': {'helicopters_capacity': 4, 'people_capacity': 1000, 'lights': 'false'},\n",
    "    'Ospedale Milazzo': {'helicopters_capacity': 4, 'people_capacity': 1000, 'lights': 'false'}\n",
    "\n",
    "}\n",
    "\n",
    "df = pd.DataFrame.from_dict(data, orient='index')\n",
    "df.index.name = 'name'\n",
    "df = df.reset_index()\n",
    "\n",
    "print(df)\n",
    "\n",
    "if should_save == True:\n",
    "    if not os.path.exists(csv_directory):\n",
    "        os.makedirs(csv_directory)\n",
    "    filename = os.path.join(csv_directory, csv_filename)\n",
    "    df.to_csv(filename, index=False)"
   ]
  },
  {
   "cell_type": "markdown",
   "id": "fe7265e2",
   "metadata": {},
   "source": [
    "## Ferries\n",
    "Multiple dataset need to be generated:\n",
    " - taken from [\"_Assessing the effectiveness and the economic impact of evacuation: the case of the island of Vulcano, Italy_\", C. Bonadonna et al.,Nat. Hazards Earth Syst. Sci., 22, 1083–1108, 2022](https://doi.org/10.5194/nhess-22-1083-2022)\n",
    " - built upon data"
   ]
  },
  {
   "cell_type": "code",
   "execution_count": null,
   "id": "f3f95d7b",
   "metadata": {},
   "outputs": [],
   "source": [
    "should_save = False\n",
    "csv_filename = \"Ferries_Bonadonna.csv\"\n",
    "\n",
    "data = {\n",
    "    'ferry - 1': {'capacity': 200, 'cruising_speed': 50, 'typology': 'ferry'},\n",
    "    'ferry - 2': {'capacity': 400, 'cruising_speed': 50, 'typology': 'ferry'},\n",
    "    'ferry - 3': {'capacity': 600, 'cruising_speed': 50, 'typology': 'ferry'},\n",
    "    'ferry - 4': {'capacity': 800, 'cruising_speed': 50, 'typology': 'ferry'}\n",
    "}\n",
    "\n",
    "df = pd.DataFrame.from_dict(data, orient='index')\n",
    "df.index.name = 'name'\n",
    "df = df.reset_index()\n",
    "\n",
    "print(df)\n",
    "\n",
    "if should_save == True:\n",
    "    if not os.path.exists(csv_directory):\n",
    "        os.makedirs(csv_directory)\n",
    "    filename = os.path.join(csv_directory, csv_filename)\n",
    "    df.to_csv(filename, index=False)"
   ]
  },
  {
   "cell_type": "code",
   "execution_count": null,
   "id": "f3dbaf96",
   "metadata": {},
   "outputs": [],
   "source": [
    "should_save = False\n",
    "csv_filename = \"Ferries_FromData.csv\"\n",
    "\n",
    "data = {\n",
    "    'ferry - 1': {'capacity': 200, 'cruising_speed': 50, 'typology': 'aliscafo', 'car_capacity': '', 'owner': ''},\n",
    "    'ferry - 2': {'capacity': 400, 'cruising_speed': 50, 'typology': 'true'},\n",
    "    'ferry - 3': {'capacity': 600, 'cruising_speed': 50, 'typology': 'false'},\n",
    "    'ferry - 4': {'capacity': 800, 'cruising_speed': 50, 'typology': 'false'}\n",
    "}\n",
    "\n",
    "df = pd.DataFrame.from_dict(data, orient='index')\n",
    "df.index.name = 'name'\n",
    "df = df.reset_index()\n",
    "\n",
    "print(df)\n",
    "\n",
    "if should_save == True:\n",
    "    if not os.path.exists(csv_directory):\n",
    "        os.makedirs(csv_directory)\n",
    "    filename = os.path.join(csv_directory, csv_filename)\n",
    "    df.to_csv(filename, index=False)"
   ]
  }
 ],
 "metadata": {
  "kernelspec": {
   "display_name": "Python 3",
   "language": "python",
   "name": "python3"
  },
  "language_info": {
   "codemirror_mode": {
    "name": "ipython",
    "version": 3
   },
   "file_extension": ".py",
   "mimetype": "text/x-python",
   "name": "python",
   "nbconvert_exporter": "python",
   "pygments_lexer": "ipython3",
   "version": "3.11.7"
  }
 },
 "nbformat": 4,
 "nbformat_minor": 5
}
