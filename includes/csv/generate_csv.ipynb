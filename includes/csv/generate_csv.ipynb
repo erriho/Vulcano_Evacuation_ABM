{
 "cells": [
  {
   "cell_type": "markdown",
   "id": "c94998e3",
   "metadata": {},
   "source": [
    "## Generate csv"
   ]
  },
  {
   "cell_type": "code",
   "execution_count": 5,
   "id": "24abd15e",
   "metadata": {},
   "outputs": [],
   "source": [
    "import pandas as pd\n",
    "import os \n",
    "\n",
    "csv_directory = \"./\""
   ]
  },
  {
   "cell_type": "markdown",
   "id": "44f29cb4",
   "metadata": {},
   "source": [
    "## Ports"
   ]
  },
  {
   "cell_type": "code",
   "execution_count": null,
   "id": "64df6f09",
   "metadata": {},
   "outputs": [
    {
     "name": "stdout",
     "output_type": "stream",
     "text": [
      "                                   name  ferries_capacity  people_capacity\n",
      "0                      Porto di Levante                 2              500\n",
      "1    Molo di protezione civile di Gelso                 0                0\n",
      "2  Molo di protezione civile di Ponente                 0                0\n"
     ]
    }
   ],
   "source": [
    "should_save = False\n",
    "csv_filename = \"Ports.csv\"\n",
    "\n",
    "data = {\n",
    "    'Porto di Levante': {'ferries_capacity': 2, 'people_capacity': 500},\n",
    "    'Molo di protezione civile di Gelso': {'ferries_capacity': 0, 'people_capacity': 0},\n",
    "    'Molo di protezione civile di Ponente': {'ferries_capacity': 0, 'people_capacity': 0},\n",
    "}\n",
    "\n",
    "df = pd.DataFrame.from_dict(data, orient='index')\n",
    "df.index.name = 'name'\n",
    "df = df.reset_index()\n",
    "\n",
    "print(df)\n",
    "\n",
    "if should_save == True:\n",
    "    if not os.path.exists(csv_directory):\n",
    "        os.makedirs(csv_directory)\n",
    "    filename = os.path.join(csv_directory, csv_filename)\n",
    "    df.to_csv(filename, index=False)"
   ]
  },
  {
   "cell_type": "code",
   "execution_count": null,
   "id": "ebebd2a7",
   "metadata": {},
   "outputs": [],
   "source": []
  }
 ],
 "metadata": {
  "kernelspec": {
   "display_name": "Python 3",
   "language": "python",
   "name": "python3"
  },
  "language_info": {
   "codemirror_mode": {
    "name": "ipython",
    "version": 3
   },
   "file_extension": ".py",
   "mimetype": "text/x-python",
   "name": "python",
   "nbconvert_exporter": "python",
   "pygments_lexer": "ipython3",
   "version": "3.11.7"
  }
 },
 "nbformat": 4,
 "nbformat_minor": 5
}
